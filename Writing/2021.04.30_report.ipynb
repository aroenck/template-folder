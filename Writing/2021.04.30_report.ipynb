{
 "cells": [
  {
   "cell_type": "code",
   "execution_count": 2,
   "id": "6ae1fbcf-e14b-4dab-9afc-f34038219b0f",
   "metadata": {},
   "outputs": [],
   "source": [
    "# this could be code"
   ]
  },
  {
   "cell_type": "markdown",
   "id": "5aabe92a-7343-4187-bb55-2f1fa782f198",
   "metadata": {},
   "source": [
    "## and some text"
   ]
  }
 ],
 "metadata": {
  "kernelspec": {
   "display_name": "Python 3",
   "language": "python",
   "name": "python3"
  },
  "language_info": {
   "codemirror_mode": {
    "name": "ipython",
    "version": 3
   },
   "file_extension": ".py",
   "mimetype": "text/x-python",
   "name": "python",
   "nbconvert_exporter": "python",
   "pygments_lexer": "ipython3",
   "version": "3.7.10"
  }
 },
 "nbformat": 4,
 "nbformat_minor": 5
}
